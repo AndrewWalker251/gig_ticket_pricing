{
 "cells": [
  {
   "cell_type": "code",
   "execution_count": 1,
   "metadata": {},
   "outputs": [],
   "source": [
    "import pandas as pd\n",
    "import numpy as np\n",
    "import random\n",
    "\n",
    "import matplotlib.pyplot as plt\n",
    "\n",
    "import gym\n",
    "import gym_gigticket"
   ]
  },
  {
   "cell_type": "markdown",
   "metadata": {},
   "source": [
    "# Implementation of a Q learner\n",
    "\n",
    "A basic q learner implementation to solve the gig ticket pricing problem.\n",
    "\n",
    "Gym environment v0 is really simple. \n",
    "\n",
    "There are 200 available tickets, 20 different opportunities to change the price and 9 different price options between 10 and 100.\n",
    "\n",
    "Action are +£10, 0 or -£10. \n",
    "\n",
    "\n",
    "References: \n",
    "Q learner basics https://github.com/simoninithomas/Deep_reinforcement_learning_Course/blob/master/Q%20learning/FrozenLake/Q%20Learning%20with%20FrozenLake.ipynb by Thomas Simioni"
   ]
  },
  {
   "cell_type": "code",
   "execution_count": 2,
   "metadata": {},
   "outputs": [],
   "source": [
    "env = gym.make('gigticket-v0')"
   ]
  },
  {
   "cell_type": "code",
   "execution_count": 40,
   "metadata": {},
   "outputs": [
    {
     "data": {
      "text/plain": [
       "36000"
      ]
     },
     "execution_count": 40,
     "metadata": {},
     "output_type": "execute_result"
    }
   ],
   "source": [
    "# How many possible states are there.\n",
    "state_size = 9*200*20\n",
    "state_size"
   ]
  },
  {
   "cell_type": "code",
   "execution_count": 44,
   "metadata": {},
   "outputs": [
    {
     "name": "stdout",
     "output_type": "stream",
     "text": [
      "[[0. 0. 0.]\n",
      " [0. 0. 0.]\n",
      " [0. 0. 0.]\n",
      " ...\n",
      " [0. 0. 0.]\n",
      " [0. 0. 0.]\n",
      " [0. 0. 0.]]\n"
     ]
    }
   ],
   "source": [
    "# Initialise a Q table with all zeros. \n",
    "qtable = np.zeros((state_size, action_size))\n",
    "print(qtable)"
   ]
  },
  {
   "cell_type": "code",
   "execution_count": 25,
   "metadata": {},
   "outputs": [],
   "source": [
    "# Set up the training parameters.\n",
    "\n",
    "total_episodes = 3000000      # Total episodes\n",
    "learning_rate = 0.8           # Learning rate\n",
    "max_steps = 20                # Max steps per episode\n",
    "gamma = 0.95                  # Discounting rate\n",
    "\n",
    "# Exploration parameters\n",
    "epsilon = 1.0                 # Exploration rate\n",
    "max_epsilon = 1.0             # Exploration probability at start\n",
    "min_epsilon = 0.01            # Minimum exploration probability \n",
    "decay_rate = 0.00005             # Exponential decay rate for exploration prob"
   ]
  },
  {
   "cell_type": "code",
   "execution_count": 26,
   "metadata": {},
   "outputs": [
    {
     "name": "stdout",
     "output_type": "stream",
     "text": [
      "Score over time: 5240.381156666666\n",
      "[[0. 0. 0.]\n",
      " [0. 0. 0.]\n",
      " [0. 0. 0.]\n",
      " ...\n",
      " [0. 0. 0.]\n",
      " [0. 0. 0.]\n",
      " [0. 0. 0.]]\n"
     ]
    }
   ],
   "source": [
    "# Implement training that will use the bellman equation to update the locations in the q table.\n",
    "\n",
    "# List of rewards\n",
    "rewards = []\n",
    "\n",
    "# 2 For life or until learning is stopped\n",
    "for episode in range(total_episodes):\n",
    "    # Reset the environment\n",
    "    state = env.reset()\n",
    "    step = 0\n",
    "    done = False\n",
    "    total_rewards = 0\n",
    "    \n",
    "    for step in range(max_steps):\n",
    "        #print(state)\n",
    "        # 3. Choose an action a in the current world state (s)\n",
    "        ## First we randomize a number\n",
    "        exp_exp_tradeoff = random.uniform(0, 1)\n",
    "        \n",
    "        state_current_q_table = int((state[0]/10)*state[1]*state[2])\n",
    "        \n",
    "        ## If this number > greater than epsilon --> exploitation (taking the biggest Q value for this state)\n",
    "        if exp_exp_tradeoff > epsilon:\n",
    "            action = np.argmax(qtable[state_current_q_table,:])\n",
    "\n",
    "        # Else doing a random choice --> exploration\n",
    "        else:\n",
    "            action = env.action_space.sample()\n",
    "\n",
    "        # Take the action (a) and observe the outcome state(s') and reward (r)\n",
    "        new_state, reward, done, info = env.step(action)\n",
    "\n",
    "        new_state_q_table =  int((new_state[0]/10)*new_state[1]*new_state[2])\n",
    "        # Update Q(s,a):= Q(s,a) + lr [R(s,a) + gamma * max Q(s',a') - Q(s,a)]\n",
    "        # qtable[new_state,:] : all the actions we can take from new state\n",
    "\n",
    "        qtable[state_current_q_table, action] = qtable[state_current_q_table, action] + learning_rate * (reward + gamma * np.max(qtable[new_state_q_table, :]) - qtable[state_current_q_table, action])\n",
    "        \n",
    "        \n",
    "        # Our new state is state\n",
    "        state = new_state\n",
    "        \n",
    "        # If done (if we're dead) : finish episode\n",
    "        if done == True: \n",
    "            #print('epidode ends')\n",
    "            break\n",
    "        \n",
    "    # Reduce epsilon (because we need less and less exploration)\n",
    "    epsilon = min_epsilon + (max_epsilon - min_epsilon)*np.exp(-decay_rate*episode) \n",
    "    rewards.append(reward)\n",
    "    #print(rewards)\n",
    "\n",
    "print (\"Score over time: \" +  str(sum(rewards)/total_episodes))\n",
    "print(qtable)"
   ]
  },
  {
   "cell_type": "code",
   "execution_count": 45,
   "metadata": {},
   "outputs": [
    {
     "data": {
      "text/plain": [
       "Text(0, 0.5, 'Episode Reward')"
      ]
     },
     "execution_count": 45,
     "metadata": {},
     "output_type": "execute_result"
    },
    {
     "data": {
      "image/png": "[encoded data removed]",
      "text/plain": [
       "<Figure size 432x288 with 1 Axes>"
      ]
     },
     "metadata": {
      "needs_background": "light"
     },
     "output_type": "display_data"
    }
   ],
   "source": [
    "# Plot how the reward of episodes changes over the episodes. \n",
    "plt.plot(range(total_episodes), rewards)\n",
    "plt.xlabel('Episode')\n",
    "plt.ylabel('Episode Reward')"
   ]
  },
  {
   "cell_type": "code",
   "execution_count": 46,
   "metadata": {},
   "outputs": [],
   "source": [
    "# Testing how good it ends up being. "
   ]
  },
  {
   "cell_type": "code",
   "execution_count": 38,
   "metadata": {},
   "outputs": [
    {
     "name": "stdout",
     "output_type": "stream",
     "text": [
      "****************************************************\n",
      "EPISODE  0\n",
      "[50, 200, 20]\n",
      "[60, 195, 19]\n",
      "[50, 189, 18]\n",
      "[60, 184, 17]\n",
      "[60, 179, 16]\n",
      "[70, 175, 15]\n",
      "[60, 170, 14]\n",
      "[70, 166, 13]\n",
      "[70, 162, 12]\n",
      "[70, 158, 11]\n",
      "[70, 154, 10]\n",
      "[80, 151, 9]\n",
      "[80, 148, 8]\n",
      "[80, 145, 7]\n",
      "[80, 142, 6]\n",
      "[80, 139, 5]\n",
      "[80, 136, 4]\n",
      "[80, 133, 3]\n",
      "[80, 130, 2]\n",
      "[70, 127, 1]\n",
      "5270\n",
      "Number of steps 19\n",
      "****************************************************\n",
      "EPISODE  1\n",
      "[50, 200, 20]\n",
      "[60, 195, 19]\n",
      "[50, 189, 18]\n",
      "[60, 184, 17]\n",
      "[60, 179, 16]\n",
      "[70, 175, 15]\n",
      "[60, 170, 14]\n",
      "[70, 166, 13]\n",
      "[70, 162, 12]\n",
      "[70, 158, 11]\n",
      "[70, 154, 10]\n",
      "[80, 151, 9]\n",
      "[80, 148, 8]\n",
      "[80, 145, 7]\n",
      "[80, 142, 6]\n",
      "[80, 139, 5]\n",
      "[80, 136, 4]\n",
      "[80, 133, 3]\n",
      "[80, 130, 2]\n",
      "[70, 127, 1]\n",
      "5270\n",
      "Number of steps 19\n",
      "****************************************************\n",
      "EPISODE  2\n",
      "[50, 200, 20]\n",
      "[60, 195, 19]\n",
      "[50, 189, 18]\n",
      "[60, 184, 17]\n",
      "[60, 179, 16]\n",
      "[70, 175, 15]\n",
      "[60, 170, 14]\n",
      "[70, 166, 13]\n",
      "[70, 162, 12]\n",
      "[70, 158, 11]\n",
      "[70, 154, 10]\n",
      "[80, 151, 9]\n",
      "[80, 148, 8]\n",
      "[80, 145, 7]\n",
      "[80, 142, 6]\n",
      "[80, 139, 5]\n",
      "[80, 136, 4]\n",
      "[80, 133, 3]\n",
      "[80, 130, 2]\n",
      "[70, 127, 1]\n",
      "5270\n",
      "Number of steps 19\n",
      "****************************************************\n",
      "EPISODE  3\n",
      "[50, 200, 20]\n",
      "[60, 195, 19]\n",
      "[50, 189, 18]\n",
      "[60, 184, 17]\n",
      "[60, 179, 16]\n",
      "[70, 175, 15]\n",
      "[60, 170, 14]\n",
      "[70, 166, 13]\n",
      "[70, 162, 12]\n",
      "[70, 158, 11]\n",
      "[70, 154, 10]\n",
      "[80, 151, 9]\n",
      "[80, 148, 8]\n",
      "[80, 145, 7]\n",
      "[80, 142, 6]\n",
      "[80, 139, 5]\n",
      "[80, 136, 4]\n",
      "[80, 133, 3]\n",
      "[80, 130, 2]\n",
      "[70, 127, 1]\n",
      "5270\n",
      "Number of steps 19\n",
      "****************************************************\n",
      "EPISODE  4\n",
      "[50, 200, 20]\n",
      "[60, 195, 19]\n",
      "[50, 189, 18]\n",
      "[60, 184, 17]\n",
      "[60, 179, 16]\n",
      "[70, 175, 15]\n",
      "[60, 170, 14]\n",
      "[70, 166, 13]\n",
      "[70, 162, 12]\n",
      "[70, 158, 11]\n",
      "[70, 154, 10]\n",
      "[80, 151, 9]\n",
      "[80, 148, 8]\n",
      "[80, 145, 7]\n",
      "[80, 142, 6]\n",
      "[80, 139, 5]\n",
      "[80, 136, 4]\n",
      "[80, 133, 3]\n",
      "[80, 130, 2]\n",
      "[70, 127, 1]\n",
      "5270\n",
      "Number of steps 19\n"
     ]
    }
   ],
   "source": [
    "env.reset()\n",
    "\n",
    "for episode in range(5):\n",
    "    state = env.reset()\n",
    "    step = 0\n",
    "    done = False\n",
    "    print(\"****************************************************\")\n",
    "    print(\"EPISODE \", episode)\n",
    "\n",
    "    for step in range(max_steps):\n",
    "        print(state)\n",
    "        # Take the action (index) that have the maximum expected future reward given that state\n",
    "        state_current_q_table = int((state[0]/10)*state[1]*state[2])\n",
    "        action = np.argmax(qtable[state_current_q_table,:])\n",
    "        new_state, reward, done, info = env.step(action)\n",
    "        \n",
    "        if done:\n",
    "            # Here, we decide to only print the last state (to see if our agent is on the goal or fall into an hole)\n",
    "            env.render()\n",
    "            print(reward)\n",
    "            \n",
    "            # We print the number of step it took.\n",
    "            print(\"Number of steps\", step)\n",
    "            break\n",
    "        state = new_state\n",
    "env.close()"
   ]
  },
  {
   "cell_type": "markdown",
   "metadata": {},
   "source": [
    "# Assessment:\n",
    "\n",
    "Q learner manages to do a good job on this basic set up. \n",
    "\n",
    "Q learners fall down when the state space becomes really large and therefore the q table really large. \n",
    "\n",
    "Iniitially I want to keep the problem simple and implement a number of methods (deep q learner, policy gradient, actor critic etc)\n",
    "and get these working on the really simple case before thinking about making it more complicated. "
   ]
  },
  {
   "cell_type": "code",
   "execution_count": null,
   "metadata": {},
   "outputs": [],
   "source": []
  }
 ],
 "metadata": {
  "kernelspec": {
   "display_name": "Python 3",
   "language": "python",
   "name": "python3"
  },
  "language_info": {
   "codemirror_mode": {
    "name": "ipython",
    "version": 3
   },
   "file_extension": ".py",
   "mimetype": "text/x-python",
   "name": "python",
   "nbconvert_exporter": "python",
   "pygments_lexer": "ipython3",
   "version": "3.6.8"
  }
 },
 "nbformat": 4,
 "nbformat_minor": 2
}
